{
 "cells": [
  {
   "cell_type": "code",
   "execution_count": 8,
   "metadata": {},
   "outputs": [],
   "source": [
    "from gensim.models import Word2Vec, FastText\n",
    "import codecs\n",
    "\n",
    "import numpy as np\n",
    "import pandas as pd\n",
    "from sklearn.manifold import TSNE\n",
    "\n",
    "import matplotlib.pyplot as plt\n",
    "\n",
    "class MySentences():\n",
    "    def __init__(self, filename):\n",
    "        self.filename = filename\n",
    "\n",
    "    def __iter__(self):\n",
    "        for line in codecs.open(self.filename, 'r', 'utf-8'):\n",
    "            yield line.split()\n",
    "\n",
    "source = '../preprocessed_data/restaurant/train.txt'\n",
    "sentences = MySentences(source)\n",
    "model_w2v = Word2Vec(sentences, size=200, window=5, min_count=10, workers=4)\n",
    "model_ft =  FastText(sentences, size=200, window=5, min_count=10, workers=4)"
   ]
  },
  {
   "cell_type": "code",
   "execution_count": 39,
   "metadata": {},
   "outputs": [
    {
     "data": {
      "text/plain": [
       "[('pricing', 0.7666640281677246),\n",
       " ('value', 0.5893751978874207),\n",
       " ('cost', 0.5861124396324158),\n",
       " ('quality', 0.575397253036499),\n",
       " ('considering', 0.5675972104072571),\n",
       " ('priced', 0.5666399598121643),\n",
       " ('expensive', 0.5432355403900146),\n",
       " ('key', 0.4987492561340332),\n",
       " ('overpriced', 0.48563966155052185),\n",
       " ('pricey', 0.48159629106521606),\n",
       " ('bargain', 0.4709915518760681),\n",
       " ('standard', 0.4635608196258545),\n",
       " ('relatively', 0.46034806966781616),\n",
       " ('expectation', 0.45782336592674255),\n",
       " ('compared', 0.44996145367622375),\n",
       " ('maintenance', 0.446297824382782),\n",
       " ('buck', 0.4436674416065216),\n",
       " ('carb', 0.4435845911502838),\n",
       " ('amount', 0.43966662883758545),\n",
       " ('rating', 0.43309304118156433)]"
      ]
     },
     "execution_count": 39,
     "metadata": {},
     "output_type": "execute_result"
    }
   ],
   "source": [
    "model_w2v.wv.similar_by_word('price', topn=20)"
   ]
  },
  {
   "cell_type": "code",
   "execution_count": 29,
   "metadata": {},
   "outputs": [
    {
     "data": {
      "text/plain": [
       "[('wineturtle', 0.9163302183151245),\n",
       " ('win', 0.7972077131271362),\n",
       " ('winelist', 0.7959462404251099),\n",
       " ('mezzanine', 0.7086347937583923),\n",
       " ('engine', 0.6964063048362732),\n",
       " ('champagne', 0.6624624133110046),\n",
       " ('nine', 0.6598778963088989),\n",
       " ('elaine', 0.6464051604270935),\n",
       " ('wipe', 0.612816572189331),\n",
       " ('wind', 0.6125981211662292),\n",
       " ('ovaltine', 0.6057194471359253),\n",
       " ('wifi', 0.6033757925033569),\n",
       " ('tagine', 0.6004486083984375),\n",
       " ('argentine', 0.5932775735855103),\n",
       " ('winner', 0.5810742378234863),\n",
       " ('beer', 0.5728252530097961),\n",
       " ('caffeine', 0.5608620643615723),\n",
       " ('wierd', 0.554676353931427),\n",
       " ('pine', 0.5536400079727173),\n",
       " ('vine', 0.546532392501831)]"
      ]
     },
     "execution_count": 29,
     "metadata": {},
     "output_type": "execute_result"
    }
   ],
   "source": [
    "model_ft.wv.similar_by_word('wine', topn=20)"
   ]
  },
  {
   "cell_type": "code",
   "execution_count": 21,
   "metadata": {},
   "outputs": [
    {
     "data": {
      "text/plain": [
       "0.1167644"
      ]
     },
     "execution_count": 21,
     "metadata": {},
     "output_type": "execute_result"
    }
   ],
   "source": [
    "model_w2v.wv.similarity('food', 'wine')"
   ]
  },
  {
   "cell_type": "code",
   "execution_count": null,
   "metadata": {},
   "outputs": [],
   "source": []
  }
 ],
 "metadata": {
  "kernelspec": {
   "display_name": "Python 3",
   "language": "python",
   "name": "python3"
  },
  "language_info": {
   "codemirror_mode": {
    "name": "ipython",
    "version": 3
   },
   "file_extension": ".py",
   "mimetype": "text/x-python",
   "name": "python",
   "nbconvert_exporter": "python",
   "pygments_lexer": "ipython3",
   "version": "3.6.0"
  }
 },
 "nbformat": 4,
 "nbformat_minor": 2
}
